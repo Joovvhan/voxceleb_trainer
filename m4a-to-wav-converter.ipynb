{
 "cells": [
  {
   "cell_type": "code",
   "execution_count": 6,
   "metadata": {},
   "outputs": [],
   "source": [
    "# https://gist.github.com/arjunsharma97\n",
    "\n",
    "import os\n",
    "import glob\n",
    "from pydub import AudioSegment\n",
    "\n",
    "from tqdm.notebook import tqdm\n",
    "\n",
    "import threading\n",
    "\n",
    "import time"
   ]
  },
  {
   "cell_type": "code",
   "execution_count": 7,
   "metadata": {},
   "outputs": [],
   "source": [
    "m4a_file_list = glob.glob(\"/home/torooc/dataSSD/voxceleb2/*/*/*.m4a\")"
   ]
  },
  {
   "cell_type": "code",
   "execution_count": 8,
   "metadata": {},
   "outputs": [],
   "source": [
    "def convert_m4a_to_wav(m4a_file_name):\n",
    "    \n",
    "    (path, file_extension) = os.path.splitext(m4a_file_name)\n",
    "    \n",
    "    try:\n",
    "        track = AudioSegment.from_file(m4a_file_name, 'm4a')\n",
    "        wav_filename = m4a_file_name.replace('.m4a', '.wav')\n",
    "        file_handle = track.export(wav_filename, format='wav')\n",
    "        os.remove(m4a_file_name)\n",
    "    except:\n",
    "        print(\"ERROR CONVERTING \" + str(file_handle))"
   ]
  },
  {
   "cell_type": "code",
   "execution_count": 9,
   "metadata": {},
   "outputs": [
    {
     "data": {
      "text/plain": [
       "0"
      ]
     },
     "execution_count": 9,
     "metadata": {},
     "output_type": "execute_result"
    }
   ],
   "source": [
    "len(m4a_file_list)"
   ]
  },
  {
   "cell_type": "code",
   "execution_count": 5,
   "metadata": {},
   "outputs": [
    {
     "data": {
      "application/vnd.jupyter.widget-view+json": {
       "model_id": "65c2f80fc7ee42bab3efbd550e1c8530",
       "version_major": 2,
       "version_minor": 0
      },
      "text/plain": [
       "HBox(children=(FloatProgress(value=0.0, max=2838.0), HTML(value='')))"
      ]
     },
     "metadata": {},
     "output_type": "display_data"
    },
    {
     "name": "stdout",
     "output_type": "stream",
     "text": [
      "\n"
     ]
    }
   ],
   "source": [
    "for m4a_file_name in tqdm(m4a_file_list):\n",
    "    th = threading.Thread(target=convert_m4a_to_wav, args=(m4a_file_name, ))\n",
    "    th.start()\n",
    "    time.sleep(0.01)\n",
    "#     (path, file_extension) = os.path.splitext(m4a_file_name)\n",
    "    \n",
    "#     try:\n",
    "#         track = AudioSegment.from_file(m4a_file_name, 'm4a')\n",
    "#         wav_filename = m4a_file_name.replace('.m4a', '.wav')\n",
    "#         file_handle = track.export(wav_filename, format='wav')\n",
    "#         os.remove(m4a_file_name)\n",
    "#     except:\n",
    "#         print(\"ERROR CONVERTING \" + str(filepath))"
   ]
  }
 ],
 "metadata": {
  "kernelspec": {
   "display_name": "Python 3",
   "language": "python",
   "name": "python3"
  },
  "language_info": {
   "codemirror_mode": {
    "name": "ipython",
    "version": 3
   },
   "file_extension": ".py",
   "mimetype": "text/x-python",
   "name": "python",
   "nbconvert_exporter": "python",
   "pygments_lexer": "ipython3",
   "version": "3.7.4"
  }
 },
 "nbformat": 4,
 "nbformat_minor": 2
}
